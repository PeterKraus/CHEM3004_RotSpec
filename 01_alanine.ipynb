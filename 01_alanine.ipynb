{
 "cells": [
  {
   "cell_type": "markdown",
   "metadata": {},
   "source": [
    "## Section 1: **l-alanine** geometry optimization\n",
    "\n",
    "In the following cells, we will learn how to download a geometry of a molecule (in this case l-alanine) from pubchem, visualise its geometry, and check its rotational constants. Then, we will optimize its structure to a minimum\n",
    "with quantum chemistry, and learn how to save its absolute energy, rotational constants, and dipole moments.\n",
    "\n",
    "### Step 1.0: import python modules"
   ]
  },
  {
   "cell_type": "code",
   "execution_count": null,
   "metadata": {},
   "outputs": [],
   "source": [
    "import psi4                        # for quantum chemistry\n",
    "import py3Dmol as p3d              # for 3D visualisation\n",
    "import qcelemental as qcel         # for physical constants\n",
    "from rdkit import Chem             # for 2D visualisation\n",
    "from openbabel import openbabel    # for format conversions\n",
    "from numpy import linalg           # for linear algebra"
   ]
  },
  {
   "cell_type": "markdown",
   "metadata": {},
   "source": [
    "### Step 1.1: getting l-alanine from pubchem:\n",
    "\n",
    "This is fairly easy. We tell Psi4 to search for a geometry of `<molecule>` on pubchem using the `psi4.geometry(\"pubchem:<molecule>\")` syntax. This function returns a special `molecule` object, which contains the geometry of the molecule (atomic positions in cartesian coordinates), information about the molecular charge, multiplicity, and derived data such as rotational constants and the distance matrix between all atoms. As we want to use the geometry later, we save it into a variable called `l_alanine`:"
   ]
  },
  {
   "cell_type": "code",
   "execution_count": null,
   "metadata": {},
   "outputs": [],
   "source": [
    "l_alanine = psi4.geometry(\"pubchem:l-alanine\")"
   ]
  },
  {
   "cell_type": "markdown",
   "metadata": {},
   "source": [
    "### Step 1.2: visualising the molecule:\n",
    "#### Step 1.2.1: 3D representation:\n",
    "Here we define a function `drawMol3D()` that takes one argument, a molecule geometry in the Psi4 format. You can adjust the width and height of the generated figure by adjusting the parameters. The function first generates a `XYZ file` representation of the molecule, and draws it using py3Dmol.\n",
    "\n",
    "We can re-use this function by calling `drawMol3D(<saved molecule>)`, or in the case of l-alanine, `drawMol3D(l_alanine)`. In the example below, we save this \"view\" into the variable `fig`, so that we can generate a `png` figure for our lab report. You can rotate the figure by dragging the mouse, and zoom by using the scroll wheel."
   ]
  },
  {
   "cell_type": "code",
   "execution_count": null,
   "metadata": {},
   "outputs": [],
   "source": [
    "def drawMol3D(mol, width = 250, height = 200):\n",
    "    xyz = mol.save_string_xyz_file() \n",
    "    view = p3d.view(width = width, height = height)\n",
    "    view.addModel(xyz, \"xyz\")\n",
    "    view.setStyle({'stick':{}})\n",
    "    view.zoomTo()\n",
    "    return view\n",
    "fig = drawMol3D(l_alanine)\n",
    "fig.show()"
   ]
  },
  {
   "cell_type": "markdown",
   "metadata": {},
   "source": [
    "Once you are happy with how the molecule looks in the box above, run the cell below, and then you can `right click -> save as` the figure."
   ]
  },
  {
   "cell_type": "code",
   "execution_count": null,
   "metadata": {},
   "outputs": [],
   "source": [
    "fig.png()"
   ]
  },
  {
   "cell_type": "markdown",
   "metadata": {},
   "source": [
    "#### Step 1.2.2: 2D stereochemical representation / diagram:\n",
    "For this visualisation, we use two very powerful packages: OpenBabel and RDkit. First, we need to convert the Psi4 molecule into a SMILES representation. We can generate the XYZ coordinates directly from the Psi4 format. Then we need to convert that to SMILES using openbabel. Then, we can use these SMILES to generate a drawing that displays stereochemistry using RDkit. "
   ]
  },
  {
   "cell_type": "code",
   "execution_count": null,
   "metadata": {},
   "outputs": [],
   "source": [
    "def drawMol2D(mol, width=100, height=100):\n",
    "    xyz = mol.save_string_xyz_file()\n",
    "    obc = openbabel.OBConversion()\n",
    "    obm = openbabel.OBMol()\n",
    "    obc.SetInAndOutFormats(\"xyz\", \"smi\")\n",
    "    obc.ReadString(obm, xyz)\n",
    "    smi = obc.WriteString(obm)\n",
    "    print(\"The generated SMILES are: \" + smi)\n",
    "    m = Chem.MolFromSmiles(smi)\n",
    "    Chem.Kekulize(m)\n",
    "    return(m)\n",
    "\n",
    "drawMol2D(l_alanine)"
   ]
  },
  {
   "cell_type": "markdown",
   "metadata": {},
   "source": [
    "A further example with a few randomly chosen molecules is shown below."
   ]
  },
  {
   "cell_type": "code",
   "execution_count": null,
   "metadata": {},
   "outputs": [],
   "source": [
    "names = [\"l-glucose\", \"butadiene\", \"nicotine\", \"l-tyrosine\", \"d-alanine\", \"l-alanine\"]\n",
    "pics = []\n",
    "for name in names:\n",
    "    mol = psi4.geometry(f\"pubchem:{name}\")\n",
    "    pics.append(drawMol2D(mol))\n",
    "Chem.Draw.MolsToGridImage(pics)"
   ]
  },
  {
   "cell_type": "markdown",
   "metadata": {},
   "source": [
    "### Step 1.3: Accessing rotational constants\n",
    "We can also check the rotational constants of the original molecule from pubchem. The function `<molecule>.rotational_constants().np` returns the rotational constants as a wavenumber ($\\lambda$) in \n",
    "cm<sup>-1</sup>. For the rest of this module, we'd prefer to use rotational constants as frequencies ($f$) \n",
    "in MHz, therefore we need to convert between the two using:\n",
    "\n",
    "\\begin{align}\n",
    "f = c \\lambda\n",
    "\\end{align}\n",
    "\n",
    "We can define another helper function to aid us. The module `qcelemental.constants` contains all important physical constants, and we can access the speed of light ($c$, in m/s) as `qcel.constants.c`. We need to multiply that by 100 (to convert from m/s to cm/s), and then convert from Hz (which is s <sup>-1</sup>) to MHz."
   ]
  },
  {
   "cell_type": "code",
   "execution_count": null,
   "metadata": {},
   "outputs": [],
   "source": [
    "def getRotConstMHz(mol):\n",
    "    incm = mol.rotational_constants().np\n",
    "    inHz = [i * qcel.constants.c * 100 for i in incm]\n",
    "    inMHz = [i/1e6 for i in inHz]\n",
    "    return(inMHz)\n",
    "\n",
    "pubchem_rot_consts = getRotConstMHz(l_alanine)\n",
    "print(pubchem_rot_consts)"
   ]
  },
  {
   "cell_type": "markdown",
   "metadata": {},
   "source": [
    "We unfortunately cannot check the dipole moment of the pubchem version, as for that we need the electron density. We will look at that using the optimized version of the molecule."
   ]
  },
  {
   "cell_type": "markdown",
   "metadata": {},
   "source": [
    "### Step 1.4: Optimizing the geometry with Psi4:\n",
    "When we want to find the minimum energy conformation of any molecule, the process by\n",
    "which we do that is called \"geometry optimization\". We will use the program Psi4 to do that, \n",
    "using a good but computationally cheap method: [PBEh-3c by Grimme et al.](https://doi.org/10.1063/1.4927476). This method is quite nice, as it includes modern corrections, but remains computationally inexpensive.\n",
    "\n",
    "The pubchem geometry of l-alanine is close to the true minimum geometry, but each computational method is slightly different, so it makes sense to make sure we are at the minimum of that method. This is especially important as we are after the rotational constants.\n",
    "\n",
    "In the next cell, we will optimize the l-alanine molecule stored in `l_alanine` using the PBEh-3c density functional. **This may take a few minutes, so do not panic.** The absolute energy of the optimized molecule will be saved into the variable `E` (in Hartrees), and the wavefunction $\\psi$ of the optimized molecule into the `wfn` object. The new geometry can be accessed as `wfn.molecule()`.\n",
    "\n",
    "Once finished, a message \"Optimizer: Optimization complete!\" will appear..."
   ]
  },
  {
   "cell_type": "code",
   "execution_count": null,
   "metadata": {},
   "outputs": [],
   "source": [
    "E, wfn = psi4.optimize(\"pbeh3c\", molecule=l_alanine, return_wfn=True)"
   ]
  },
  {
   "cell_type": "markdown",
   "metadata": {},
   "source": [
    "### Step 1.5: Compare pubchem and optimized l-anilines:\n",
    "\n",
    "In the cell below, we compare the original (from pubchem) and optimized 3D representations of l-aniline. Is there any perceptible difference?"
   ]
  },
  {
   "cell_type": "code",
   "execution_count": null,
   "metadata": {},
   "outputs": [],
   "source": [
    "print(\"pubchem version:\")\n",
    "drawMol3D(l_alanine).show()\n",
    "print(getRotConstMHz(l_alanine))\n",
    "print()\n",
    "print(\"optimized version:\")\n",
    "drawMol3D(wfn.molecule()).show()\n",
    "print(getRotConstMHz(wfn.molecule()))"
   ]
  },
  {
   "cell_type": "markdown",
   "metadata": {},
   "source": [
    "As you see in the output above, there is a significant change in the rotational constants, especially along $b$ and $c$, even though visually the change is almost imperceptible.\n",
    "\n",
    "### Step 1.6: Accessing dipole moments:\n",
    "The dipole moments are stored in the wavefunction object `wfn`. We can access them using the `wfn.array_variable(\"CURRENT DIPOLE\").np` function as shown below:"
   ]
  },
  {
   "cell_type": "code",
   "execution_count": null,
   "metadata": {},
   "outputs": [],
   "source": [
    "print(wfn.array_variable(\"CURRENT DIPOLE\").np)"
   ]
  },
  {
   "cell_type": "markdown",
   "metadata": {},
   "source": [
    "Unfortunately, there are two issues with this dipole moment vector:\n",
    "\n",
    "- the dipole moments are in atomic units ($e a_0$) as opposed to Debye\n",
    "- the orientation is in Cartesian (XYZ) coordinates as opposed to the principal axis system (ABC)\n",
    "\n",
    "To convert the units, we can simply use the conversion factor `qcel.constants.dipmom_au2debye`. "
   ]
  },
  {
   "cell_type": "code",
   "execution_count": null,
   "metadata": {
    "scrolled": true
   },
   "outputs": [],
   "source": [
    "dipole_XYZ = wfn.array_variable(\"CURRENT DIPOLE\").np * qcel.constants.dipmom_au2debye\n",
    "print(dipole_XYZ)"
   ]
  },
  {
   "cell_type": "markdown",
   "metadata": {},
   "source": [
    "For the second problem, we need to figure out how to rotate our molecule so that the principal axes (ABC) are parallel with Cartesian axes (XYZ). We can do this by solving the eigenvalue equation of the moment of inertia tensor, ordering the eigenvalues and eigenvectors so that the eigenvalues, which are the principal moments of inertia $I_a, I_b, I_c$, are sorted from smallest to largest, and then applying the ordered eigenvectors to rotate the dipole moment vector from XYZ to ABC frame:"
   ]
  },
  {
   "cell_type": "code",
   "execution_count": null,
   "metadata": {},
   "outputs": [],
   "source": [
    "I = wfn.molecule().inertia_tensor().np\n",
    "evals, evecs = linalg.eig(I)\n",
    "idx = evals.argsort()\n",
    "evals = evals[idx]\n",
    "evecs = evecs[:,idx]\n",
    "dipole_ABC = dipole_XYZ.dot(evecs)\n",
    "print(dipole_ABC)"
   ]
  },
  {
   "cell_type": "markdown",
   "metadata": {},
   "source": [
    "To illustrate this rotation, we can show the 3D structures before and after applying the transformation:"
   ]
  },
  {
   "cell_type": "code",
   "execution_count": null,
   "metadata": {},
   "outputs": [],
   "source": [
    "print(\"Original molecule:\")\n",
    "display(drawMol3D(wfn.molecule()))\n",
    "print(dipole_XYZ)\n",
    "print()\n",
    "print(\"Rotated molecule:\")\n",
    "rotmol = wfn.molecule().clone()\n",
    "mat = psi4.core.Matrix(*rotmol.geometry().shape).from_array(rotmol.geometry().np.dot(evecs))\n",
    "rotmol.set_geometry(mat)\n",
    "display(drawMol3D(rotmol))\n",
    "print(dipole_ABC)"
   ]
  },
  {
   "cell_type": "markdown",
   "metadata": {},
   "source": [
    "To make the process of getting the rotated dipole moment components in correct units a little easier, we have provided you with the following function:"
   ]
  },
  {
   "cell_type": "code",
   "execution_count": null,
   "metadata": {},
   "outputs": [],
   "source": [
    "def getDipoleABC(wf):\n",
    "    dipole_XYZ = wf.array_variable(\"CURRENT DIPOLE\").np * qcel.constants.dipmom_au2debye\n",
    "    I = wf.molecule().inertia_tensor().np\n",
    "    evals, evecs = linalg.eig(I)\n",
    "    idx = evals.argsort()\n",
    "    evals = evals[idx]\n",
    "    evecs = evecs[:,idx]\n",
    "    dipole_ABC = dipole_XYZ.dot(evecs)\n",
    "    return(dipole_ABC)\n",
    "\n",
    "getDipoleABC(wfn)"
   ]
  },
  {
   "cell_type": "code",
   "execution_count": null,
   "metadata": {},
   "outputs": [],
   "source": []
  }
 ],
 "metadata": {
  "kernelspec": {
   "display_name": "CHEM3004_RotSpec",
   "language": "python",
   "name": "chem3004_rotspec"
  },
  "language_info": {
   "codemirror_mode": {
    "name": "ipython",
    "version": 3
   },
   "file_extension": ".py",
   "mimetype": "text/x-python",
   "name": "python",
   "nbconvert_exporter": "python",
   "pygments_lexer": "ipython3",
   "version": "3.9.2"
  }
 },
 "nbformat": 4,
 "nbformat_minor": 4
}

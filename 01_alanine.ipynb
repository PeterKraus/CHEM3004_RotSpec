{
 "cells": [
  {
   "cell_type": "markdown",
   "metadata": {},
   "source": [
    "## Section 1: **l-alanine** geometry optimization\n",
    "\n",
    "In the following cells, we will learn how to download a geometry of a molecule (in this case l-alanine) from pubchem, visualise its geometry, and check its rotational constants. Then, we will optimize its structure to a minimum\n",
    "with quantum chemistry, and learn how to save its absolute energy, rotational constants, and dipole moments.\n",
    "\n",
    "### Step 1.0: import python modules"
   ]
  },
  {
   "cell_type": "code",
   "execution_count": 1,
   "metadata": {},
   "outputs": [],
   "source": [
    "import psi4                        # for quantum chemistry\n",
    "import py3Dmol as p3d              # for 3D visualisation\n",
    "import qcelemental as qcel         # for physical constants\n",
    "from rdkit import Chem             # for 2D visualisation\n",
    "from openbabel import openbabel    # for format conversions"
   ]
  },
  {
   "cell_type": "markdown",
   "metadata": {},
   "source": [
    "### Step 1.1: getting l-alanine from pubchem:\n",
    "\n",
    "This is fairly easy. We tell Psi4 to search for a geometry of `<molecule>` on pubchem using the `psi4.geometry(\"pubchem:<molecule>\")` syntax. This function returns a special `molecule` object, which contains the geometry of the molecule (atomic positions in cartesian coordinates), information about the molecular charge, multiplicity, and derived data such as rotational constants and the distance matrix between all atoms. As we want to use the geometry later, we save it into a variable called `l_alanine`:"
   ]
  },
  {
   "cell_type": "code",
   "execution_count": 2,
   "metadata": {},
   "outputs": [
    {
     "name": "stdout",
     "output_type": "stream",
     "text": [
      "\tSearching PubChem database for l-alanine (single best match returned)\n",
      "\tFound 1 result(s)\n"
     ]
    }
   ],
   "source": [
    "l_alanine = psi4.geometry(\"pubchem:l-alanine\")"
   ]
  },
  {
   "cell_type": "markdown",
   "metadata": {},
   "source": [
    "### Step 1.2: visualising the molecule:\n",
    "#### Step 1.2.1: 3D representation:\n",
    "Here we define a function `drawMol3D()` that takes one argument, a molecule geometry in the Psi4 format. You can adjust the width and height of the generated figure by adjusting the parameters. The function first generates a `XYZ file` representation of the molecule, and draws it using py3Dmol.\n",
    "\n",
    "We can re-use this function by calling `drawMol3D(<saved molecule>)`, or in the case of l-alanine, `drawMol3D(l_alanine)`. In the example below, we save this \"view\" into the variable `fig`, so that we can generate a `png` figure for our lab report. You can rotate the figure by dragging the mouse, and zoom by using the scroll wheel."
   ]
  },
  {
   "cell_type": "code",
   "execution_count": 3,
   "metadata": {},
   "outputs": [
    {
     "data": {
      "application/3dmoljs_load.v0": "<div id=\"3dmolviewer_16142349660125606\"  style=\"position: relative; width: 250px; height: 200px\">\n        <p id=\"3dmolwarning_16142349660125606\" style=\"background-color:#ffcccc;color:black\">You appear to be running in JupyterLab (or JavaScript failed to load for some other reason).  You need to install the 3dmol extension: <br>\n        <tt>jupyter labextension install jupyterlab_3dmol</tt></p>\n        </div>\n<script>\n\nvar loadScriptAsync = function(uri){\n  return new Promise((resolve, reject) => {\n    var tag = document.createElement('script');\n    tag.src = uri;\n    tag.async = true;\n    tag.onload = () => {\n      resolve();\n    };\n  var firstScriptTag = document.getElementsByTagName('script')[0];\n  firstScriptTag.parentNode.insertBefore(tag, firstScriptTag);\n});\n};\n\nif(typeof $3Dmolpromise === 'undefined') {\n$3Dmolpromise = null;\n  $3Dmolpromise = loadScriptAsync('https://3dmol.csb.pitt.edu/build/3Dmol.js');\n}\n\nvar viewer_16142349660125606 = null;\nvar warn = document.getElementById(\"3dmolwarning_16142349660125606\");\nif(warn) {\n    warn.parentNode.removeChild(warn);\n}\n$3Dmolpromise.then(function() {\nviewer_16142349660125606 = $3Dmol.createViewer($(\"#3dmolviewer_16142349660125606\"),{backgroundColor:\"white\"});\n\tviewer_16142349660125606.addModel(\"13\\n\\n O    1.442805411509   -1.035155534067    0.280994052041\\n O    1.234705411509    1.125144465933   -0.391905947959\\n N   -1.424994588491    1.159344465933    0.194894052041\\n C   -0.722994588491   -0.104955534067    0.406494052041\\n C   -1.348994588491   -1.191355534067   -0.457405947959\\n C    0.732505411509    0.098944465933    0.043594052041\\n H   -0.781094588491   -0.365055534067    1.468594052041\\n H   -0.872494588491   -2.160855534067   -0.275005947959\\n H   -2.416794588491   -1.304055534067   -0.239305947959\\n H   -1.239294588491   -0.971055534067   -1.525605947959\\n H   -2.406094588491    1.050644465933    0.450394052041\\n H   -1.421594588491    1.396144465933   -0.797105947959\\n H    2.391705411509   -0.925455534067    0.057494052041\\n\",\"xyz\");\n\tviewer_16142349660125606.setStyle({\"stick\": {}});\n\tviewer_16142349660125606.zoomTo();\nviewer_16142349660125606.render();\n});\n</script>",
      "text/html": [
       "<div id=\"3dmolviewer_16142349660125606\"  style=\"position: relative; width: 250px; height: 200px\">\n",
       "        <p id=\"3dmolwarning_16142349660125606\" style=\"background-color:#ffcccc;color:black\">You appear to be running in JupyterLab (or JavaScript failed to load for some other reason).  You need to install the 3dmol extension: <br>\n",
       "        <tt>jupyter labextension install jupyterlab_3dmol</tt></p>\n",
       "        </div>\n",
       "<script>\n",
       "\n",
       "var loadScriptAsync = function(uri){\n",
       "  return new Promise((resolve, reject) => {\n",
       "    var tag = document.createElement('script');\n",
       "    tag.src = uri;\n",
       "    tag.async = true;\n",
       "    tag.onload = () => {\n",
       "      resolve();\n",
       "    };\n",
       "  var firstScriptTag = document.getElementsByTagName('script')[0];\n",
       "  firstScriptTag.parentNode.insertBefore(tag, firstScriptTag);\n",
       "});\n",
       "};\n",
       "\n",
       "if(typeof $3Dmolpromise === 'undefined') {\n",
       "$3Dmolpromise = null;\n",
       "  $3Dmolpromise = loadScriptAsync('https://3dmol.csb.pitt.edu/build/3Dmol.js');\n",
       "}\n",
       "\n",
       "var viewer_16142349660125606 = null;\n",
       "var warn = document.getElementById(\"3dmolwarning_16142349660125606\");\n",
       "if(warn) {\n",
       "    warn.parentNode.removeChild(warn);\n",
       "}\n",
       "$3Dmolpromise.then(function() {\n",
       "viewer_16142349660125606 = $3Dmol.createViewer($(\"#3dmolviewer_16142349660125606\"),{backgroundColor:\"white\"});\n",
       "\tviewer_16142349660125606.addModel(\"13\\n\\n O    1.442805411509   -1.035155534067    0.280994052041\\n O    1.234705411509    1.125144465933   -0.391905947959\\n N   -1.424994588491    1.159344465933    0.194894052041\\n C   -0.722994588491   -0.104955534067    0.406494052041\\n C   -1.348994588491   -1.191355534067   -0.457405947959\\n C    0.732505411509    0.098944465933    0.043594052041\\n H   -0.781094588491   -0.365055534067    1.468594052041\\n H   -0.872494588491   -2.160855534067   -0.275005947959\\n H   -2.416794588491   -1.304055534067   -0.239305947959\\n H   -1.239294588491   -0.971055534067   -1.525605947959\\n H   -2.406094588491    1.050644465933    0.450394052041\\n H   -1.421594588491    1.396144465933   -0.797105947959\\n H    2.391705411509   -0.925455534067    0.057494052041\\n\",\"xyz\");\n",
       "\tviewer_16142349660125606.setStyle({\"stick\": {}});\n",
       "\tviewer_16142349660125606.zoomTo();\n",
       "viewer_16142349660125606.render();\n",
       "});\n",
       "</script>"
      ]
     },
     "metadata": {},
     "output_type": "display_data"
    }
   ],
   "source": [
    "def drawMol3D(mol, width = 250, height = 200):\n",
    "    xyz = mol.save_string_xyz_file() \n",
    "    view = p3d.view(width = width, height = height)\n",
    "    view.addModel(xyz, \"xyz\")\n",
    "    view.setStyle({'stick':{}})\n",
    "    view.zoomTo()\n",
    "    return view\n",
    "fig = drawMol3D(l_alanine)\n",
    "fig.show()"
   ]
  },
  {
   "cell_type": "markdown",
   "metadata": {},
   "source": [
    "Once you are happy with how the molecule looks in the box above, run the cell below, and then you can `right click -> save as` the figure."
   ]
  },
  {
   "cell_type": "code",
   "execution_count": 4,
   "metadata": {},
   "outputs": [
    {
     "data": {
      "application/3dmoljs_load.v0": "<img id=\"img_16142349660125606\">\n            <script>\n            var png = viewer_16142349660125606.pngURI()\n            $('#img_16142349660125606').attr('src', png)\n            </script>",
      "text/html": [
       "<img id=\"img_16142349660125606\">\n",
       "            <script>\n",
       "            var png = viewer_16142349660125606.pngURI()\n",
       "            $('#img_16142349660125606').attr('src', png)\n",
       "            </script>"
      ]
     },
     "metadata": {},
     "output_type": "display_data"
    }
   ],
   "source": [
    "fig.png()"
   ]
  },
  {
   "cell_type": "markdown",
   "metadata": {},
   "source": [
    "#### Step 1.2.2: 2D stereochemical representation / diagram:\n",
    "For this visualisation, we use two very powerful packages: OpenBabel and RDkit. First, we need to convert the Psi4 molecule into a SMILES representation. We can generate the XYZ coordinates directly from the Psi4 format. Then we need to convert that to SMILES using openbabel. Then, we can use these SMILES to generate a drawing that displays stereochemistry using RDkit. "
   ]
  },
  {
   "cell_type": "code",
   "execution_count": 5,
   "metadata": {},
   "outputs": [
    {
     "name": "stdout",
     "output_type": "stream",
     "text": [
      "The generated SMILES are: OC(=O)[C@@H](N)C\t\n",
      "\n"
     ]
    },
    {
     "data": {
      "image/png": "[encoded data removed]",
      "text/plain": [
       "<rdkit.Chem.rdchem.Mol at 0x7fc90f487040>"
      ]
     },
     "execution_count": 5,
     "metadata": {},
     "output_type": "execute_result"
    }
   ],
   "source": [
    "def drawMol2D(mol, width=100, height=100):\n",
    "    xyz = mol.save_string_xyz_file()\n",
    "    obc = openbabel.OBConversion()\n",
    "    obm = openbabel.OBMol()\n",
    "    obc.SetInAndOutFormats(\"xyz\", \"smi\")\n",
    "    obc.ReadString(obm, xyz)\n",
    "    smi = obc.WriteString(obm)\n",
    "    print(\"The generated SMILES are: \" + smi)\n",
    "    m = Chem.MolFromSmiles(smi)\n",
    "    Chem.Kekulize(m)\n",
    "    return(m)\n",
    "\n",
    "drawMol2D(l_alanine)"
   ]
  },
  {
   "cell_type": "markdown",
   "metadata": {},
   "source": [
    "A further example with a few randomly chosen molecules is shown below."
   ]
  },
  {
   "cell_type": "code",
   "execution_count": 6,
   "metadata": {},
   "outputs": [
    {
     "name": "stdout",
     "output_type": "stream",
     "text": [
      "\tSearching PubChem database for l-glucose (single best match returned)\n",
      "\tFound 1 result(s)\n",
      "The generated SMILES are: O[C@H]([C@@H](O)[C@H](O)C=O)[C@@H](O)CO\t\n",
      "\n",
      "\tSearching PubChem database for butadiene (single best match returned)\n",
      "\tFound 1 result(s)\n",
      "The generated SMILES are: C(=C)C=C\t\n",
      "\n",
      "\tSearching PubChem database for nicotine (single best match returned)\n",
      "\tFound 1 result(s)\n",
      "The generated SMILES are: N1([C@@H](CCC1)c1cccnc1)C\t\n",
      "\n",
      "\tSearching PubChem database for l-tyrosine (single best match returned)\n",
      "\tFound 1 result(s)\n",
      "The generated SMILES are: OC(=O)[C@@H](N)Cc1ccc(O)cc1\t\n",
      "\n",
      "\tSearching PubChem database for d-alanine (single best match returned)\n",
      "\tFound 1 result(s)\n",
      "The generated SMILES are: OC(=O)[C@H](N)C\t\n",
      "\n",
      "\tSearching PubChem database for l-alanine (single best match returned)\n",
      "\tFound 1 result(s)\n",
      "The generated SMILES are: OC(=O)[C@@H](N)C\t\n",
      "\n"
     ]
    },
    {
     "data": {
      "image/png": "[encoded data removed]",
      "text/plain": [
       "<IPython.core.display.Image object>"
      ]
     },
     "execution_count": 6,
     "metadata": {},
     "output_type": "execute_result"
    }
   ],
   "source": [
    "names = [\"l-glucose\", \"butadiene\", \"nicotine\", \"l-tyrosine\", \"d-alanine\", \"l-alanine\"]\n",
    "pics = []\n",
    "for name in names:\n",
    "    mol = psi4.geometry(f\"pubchem:{name}\")\n",
    "    pics.append(drawMol2D(mol))\n",
    "Chem.Draw.MolsToGridImage(pics)"
   ]
  },
  {
   "cell_type": "markdown",
   "metadata": {},
   "source": [
    "### Step 1.3: Accessing rotational constants\n",
    "We can also check the rotational constants of the original molecule from pubchem. The function `<molecule>.rotational_constants().np` returns the rotational constants as a wavenumber ($\\lambda$) in \n",
    "cm<sup>-1</sup>. For the rest of this module, we'd prefer to use rotational constants as frequencies ($f$) \n",
    "in MHz, therefore we need to convert between the two using:\n",
    "\n",
    "\\begin{align}\n",
    "f = c \\lambda\n",
    "\\end{align}\n",
    "\n",
    "We can define another helper function to aid us. The module `qcelemental.constants` contains all important physical constants, and we can access the speed of light ($c$, in m/s) as `qcel.constants.c`. We need to multiply that by 100 (to convert from m/s to cm/s), and then convert from Hz (which is s <sup>-1</sup>) to MHz."
   ]
  },
  {
   "cell_type": "code",
   "execution_count": 7,
   "metadata": {},
   "outputs": [
    {
     "name": "stdout",
     "output_type": "stream",
     "text": [
      "[5108.350381344177, 3206.106037007035, 2215.7842244027784]\n"
     ]
    }
   ],
   "source": [
    "def getRotConstMHz(mol):\n",
    "    incm = mol.rotational_constants().np\n",
    "    inHz = [i * qcel.constants.c * 100 for i in incm]\n",
    "    inMHz = [i/1e6 for i in inHz]\n",
    "    return(inMHz)\n",
    "\n",
    "pubchem_rot_consts = getRotConstMHz(l_alanine)\n",
    "print(pubchem_rot_consts)"
   ]
  },
  {
   "cell_type": "markdown",
   "metadata": {},
   "source": [
    "We unfortunately cannot check the dipole moment of the pubchem version, as for that we need the electron density. We will look at that using the optimized version of the molecule."
   ]
  },
  {
   "cell_type": "markdown",
   "metadata": {},
   "source": [
    "### Step 1.4: Optimizing the geometry with Psi4:\n",
    "When we want to find the minimum energy conformation of any molecule, the process by\n",
    "which we do that is called \"geometry optimization\". We will use the program Psi4 to do that, \n",
    "using a good but computationally cheap method: [PBEh-3c by Grimme et al.](https://doi.org/10.1063/1.4927476). This method is quite nice, as it includes modern corrections, but remains computationally inexpensive.\n",
    "\n",
    "The pubchem geometry of l-alanine is close to the true minimum geometry, but each computational method is slightly different, so it makes sense to make sure we are at the minimum of that method. This is especially important as we are after the rotational constants.\n",
    "\n",
    "In the next cell, we will optimize the l-alanine molecule stored in `l_alanine` using the PBEh-3c density functional. **This may take a few minutes, so do not panic.** The absolute energy of the optimized molecule will be saved into the variable `E` (in Hartrees), and the wavefunction $\\psi$ of the optimized molecule into the `wfn` object. The new geometry can be accessed as `wfn.molecule()`.\n",
    "\n",
    "Once finished, a message \"Optimizer: Optimization complete!\" will appear..."
   ]
  },
  {
   "cell_type": "code",
   "execution_count": 8,
   "metadata": {},
   "outputs": [
    {
     "name": "stdout",
     "output_type": "stream",
     "text": [
      "Optimizer: Optimization complete!\n"
     ]
    }
   ],
   "source": [
    "E, wfn = psi4.optimize(\"pbeh3c\", mol=l_alanine, return_wfn=True)"
   ]
  },
  {
   "cell_type": "markdown",
   "metadata": {},
   "source": [
    "### Step 1.5: Compare pubchem and optimized l-anilines:\n",
    "\n",
    "In the cell below, we compare the original (from pubchem) and optimized 3D representations of l-aniline. Is there any perceptible difference?"
   ]
  },
  {
   "cell_type": "code",
   "execution_count": 9,
   "metadata": {},
   "outputs": [
    {
     "name": "stdout",
     "output_type": "stream",
     "text": [
      "pubchem version:\n"
     ]
    },
    {
     "data": {
      "application/3dmoljs_load.v0": "<div id=\"3dmolviewer_16142350835144029\"  style=\"position: relative; width: 250px; height: 200px\">\n        <p id=\"3dmolwarning_16142350835144029\" style=\"background-color:#ffcccc;color:black\">You appear to be running in JupyterLab (or JavaScript failed to load for some other reason).  You need to install the 3dmol extension: <br>\n        <tt>jupyter labextension install jupyterlab_3dmol</tt></p>\n        </div>\n<script>\n\nvar loadScriptAsync = function(uri){\n  return new Promise((resolve, reject) => {\n    var tag = document.createElement('script');\n    tag.src = uri;\n    tag.async = true;\n    tag.onload = () => {\n      resolve();\n    };\n  var firstScriptTag = document.getElementsByTagName('script')[0];\n  firstScriptTag.parentNode.insertBefore(tag, firstScriptTag);\n});\n};\n\nif(typeof $3Dmolpromise === 'undefined') {\n$3Dmolpromise = null;\n  $3Dmolpromise = loadScriptAsync('https://3dmol.csb.pitt.edu/build/3Dmol.js');\n}\n\nvar viewer_16142350835144029 = null;\nvar warn = document.getElementById(\"3dmolwarning_16142350835144029\");\nif(warn) {\n    warn.parentNode.removeChild(warn);\n}\n$3Dmolpromise.then(function() {\nviewer_16142350835144029 = $3Dmol.createViewer($(\"#3dmolviewer_16142350835144029\"),{backgroundColor:\"white\"});\n\tviewer_16142350835144029.addModel(\"13\\n\\n O    1.442805411509   -1.035155534067    0.280994052041\\n O    1.234705411509    1.125144465933   -0.391905947959\\n N   -1.424994588491    1.159344465933    0.194894052041\\n C   -0.722994588491   -0.104955534067    0.406494052041\\n C   -1.348994588491   -1.191355534067   -0.457405947959\\n C    0.732505411509    0.098944465933    0.043594052041\\n H   -0.781094588491   -0.365055534067    1.468594052041\\n H   -0.872494588491   -2.160855534067   -0.275005947959\\n H   -2.416794588491   -1.304055534067   -0.239305947959\\n H   -1.239294588491   -0.971055534067   -1.525605947959\\n H   -2.406094588491    1.050644465933    0.450394052041\\n H   -1.421594588491    1.396144465933   -0.797105947959\\n H    2.391705411509   -0.925455534067    0.057494052041\\n\",\"xyz\");\n\tviewer_16142350835144029.setStyle({\"stick\": {}});\n\tviewer_16142350835144029.zoomTo();\nviewer_16142350835144029.render();\n});\n</script>",
      "text/html": [
       "<div id=\"3dmolviewer_16142350835144029\"  style=\"position: relative; width: 250px; height: 200px\">\n",
       "        <p id=\"3dmolwarning_16142350835144029\" style=\"background-color:#ffcccc;color:black\">You appear to be running in JupyterLab (or JavaScript failed to load for some other reason).  You need to install the 3dmol extension: <br>\n",
       "        <tt>jupyter labextension install jupyterlab_3dmol</tt></p>\n",
       "        </div>\n",
       "<script>\n",
       "\n",
       "var loadScriptAsync = function(uri){\n",
       "  return new Promise((resolve, reject) => {\n",
       "    var tag = document.createElement('script');\n",
       "    tag.src = uri;\n",
       "    tag.async = true;\n",
       "    tag.onload = () => {\n",
       "      resolve();\n",
       "    };\n",
       "  var firstScriptTag = document.getElementsByTagName('script')[0];\n",
       "  firstScriptTag.parentNode.insertBefore(tag, firstScriptTag);\n",
       "});\n",
       "};\n",
       "\n",
       "if(typeof $3Dmolpromise === 'undefined') {\n",
       "$3Dmolpromise = null;\n",
       "  $3Dmolpromise = loadScriptAsync('https://3dmol.csb.pitt.edu/build/3Dmol.js');\n",
       "}\n",
       "\n",
       "var viewer_16142350835144029 = null;\n",
       "var warn = document.getElementById(\"3dmolwarning_16142350835144029\");\n",
       "if(warn) {\n",
       "    warn.parentNode.removeChild(warn);\n",
       "}\n",
       "$3Dmolpromise.then(function() {\n",
       "viewer_16142350835144029 = $3Dmol.createViewer($(\"#3dmolviewer_16142350835144029\"),{backgroundColor:\"white\"});\n",
       "\tviewer_16142350835144029.addModel(\"13\\n\\n O    1.442805411509   -1.035155534067    0.280994052041\\n O    1.234705411509    1.125144465933   -0.391905947959\\n N   -1.424994588491    1.159344465933    0.194894052041\\n C   -0.722994588491   -0.104955534067    0.406494052041\\n C   -1.348994588491   -1.191355534067   -0.457405947959\\n C    0.732505411509    0.098944465933    0.043594052041\\n H   -0.781094588491   -0.365055534067    1.468594052041\\n H   -0.872494588491   -2.160855534067   -0.275005947959\\n H   -2.416794588491   -1.304055534067   -0.239305947959\\n H   -1.239294588491   -0.971055534067   -1.525605947959\\n H   -2.406094588491    1.050644465933    0.450394052041\\n H   -1.421594588491    1.396144465933   -0.797105947959\\n H    2.391705411509   -0.925455534067    0.057494052041\\n\",\"xyz\");\n",
       "\tviewer_16142350835144029.setStyle({\"stick\": {}});\n",
       "\tviewer_16142350835144029.zoomTo();\n",
       "viewer_16142350835144029.render();\n",
       "});\n",
       "</script>"
      ]
     },
     "metadata": {},
     "output_type": "display_data"
    },
    {
     "name": "stdout",
     "output_type": "stream",
     "text": [
      "[5108.350381344177, 3206.106037007035, 2215.7842244027784]\n",
      "\n",
      "optimized version:\n"
     ]
    },
    {
     "data": {
      "application/3dmoljs_load.v0": "<div id=\"3dmolviewer_16142350835158687\"  style=\"position: relative; width: 250px; height: 200px\">\n        <p id=\"3dmolwarning_16142350835158687\" style=\"background-color:#ffcccc;color:black\">You appear to be running in JupyterLab (or JavaScript failed to load for some other reason).  You need to install the 3dmol extension: <br>\n        <tt>jupyter labextension install jupyterlab_3dmol</tt></p>\n        </div>\n<script>\n\nvar loadScriptAsync = function(uri){\n  return new Promise((resolve, reject) => {\n    var tag = document.createElement('script');\n    tag.src = uri;\n    tag.async = true;\n    tag.onload = () => {\n      resolve();\n    };\n  var firstScriptTag = document.getElementsByTagName('script')[0];\n  firstScriptTag.parentNode.insertBefore(tag, firstScriptTag);\n});\n};\n\nif(typeof $3Dmolpromise === 'undefined') {\n$3Dmolpromise = null;\n  $3Dmolpromise = loadScriptAsync('https://3dmol.csb.pitt.edu/build/3Dmol.js');\n}\n\nvar viewer_16142350835158687 = null;\nvar warn = document.getElementById(\"3dmolwarning_16142350835158687\");\nif(warn) {\n    warn.parentNode.removeChild(warn);\n}\n$3Dmolpromise.then(function() {\nviewer_16142350835158687 = $3Dmol.createViewer($(\"#3dmolviewer_16142350835158687\"),{backgroundColor:\"white\"});\n\tviewer_16142350835158687.addModel(\"13\\n\\n O    1.507182052223   -0.754335057282    0.682406024057\\n O    1.127840235744    0.904987913841   -0.759241098439\\n N   -1.441483577227    1.148188385173    0.189583802247\\n C   -0.744263651830   -0.103242141166    0.372134561422\\n C   -1.269472330668   -1.276605536601   -0.469384761327\\n C    0.716943783985    0.106051389494    0.035013045667\\n H   -0.811957209854   -0.383329727834    1.427050377469\\n H   -0.727786224625   -2.202188943991   -0.272903461455\\n H   -2.320304135373   -1.455902690879   -0.238366690034\\n H   -1.193785461303   -1.055036605297   -1.535205375316\\n H   -2.437081761289    1.013586222957    0.295857322314\\n H   -1.276004885901    1.517355374458   -0.737272057774\\n H    2.416364054337   -0.611911203423    0.387171652899\\n\",\"xyz\");\n\tviewer_16142350835158687.setStyle({\"stick\": {}});\n\tviewer_16142350835158687.zoomTo();\nviewer_16142350835158687.render();\n});\n</script>",
      "text/html": [
       "<div id=\"3dmolviewer_16142350835158687\"  style=\"position: relative; width: 250px; height: 200px\">\n",
       "        <p id=\"3dmolwarning_16142350835158687\" style=\"background-color:#ffcccc;color:black\">You appear to be running in JupyterLab (or JavaScript failed to load for some other reason).  You need to install the 3dmol extension: <br>\n",
       "        <tt>jupyter labextension install jupyterlab_3dmol</tt></p>\n",
       "        </div>\n",
       "<script>\n",
       "\n",
       "var loadScriptAsync = function(uri){\n",
       "  return new Promise((resolve, reject) => {\n",
       "    var tag = document.createElement('script');\n",
       "    tag.src = uri;\n",
       "    tag.async = true;\n",
       "    tag.onload = () => {\n",
       "      resolve();\n",
       "    };\n",
       "  var firstScriptTag = document.getElementsByTagName('script')[0];\n",
       "  firstScriptTag.parentNode.insertBefore(tag, firstScriptTag);\n",
       "});\n",
       "};\n",
       "\n",
       "if(typeof $3Dmolpromise === 'undefined') {\n",
       "$3Dmolpromise = null;\n",
       "  $3Dmolpromise = loadScriptAsync('https://3dmol.csb.pitt.edu/build/3Dmol.js');\n",
       "}\n",
       "\n",
       "var viewer_16142350835158687 = null;\n",
       "var warn = document.getElementById(\"3dmolwarning_16142350835158687\");\n",
       "if(warn) {\n",
       "    warn.parentNode.removeChild(warn);\n",
       "}\n",
       "$3Dmolpromise.then(function() {\n",
       "viewer_16142350835158687 = $3Dmol.createViewer($(\"#3dmolviewer_16142350835158687\"),{backgroundColor:\"white\"});\n",
       "\tviewer_16142350835158687.addModel(\"13\\n\\n O    1.507182052223   -0.754335057282    0.682406024057\\n O    1.127840235744    0.904987913841   -0.759241098439\\n N   -1.441483577227    1.148188385173    0.189583802247\\n C   -0.744263651830   -0.103242141166    0.372134561422\\n C   -1.269472330668   -1.276605536601   -0.469384761327\\n C    0.716943783985    0.106051389494    0.035013045667\\n H   -0.811957209854   -0.383329727834    1.427050377469\\n H   -0.727786224625   -2.202188943991   -0.272903461455\\n H   -2.320304135373   -1.455902690879   -0.238366690034\\n H   -1.193785461303   -1.055036605297   -1.535205375316\\n H   -2.437081761289    1.013586222957    0.295857322314\\n H   -1.276004885901    1.517355374458   -0.737272057774\\n H    2.416364054337   -0.611911203423    0.387171652899\\n\",\"xyz\");\n",
       "\tviewer_16142350835158687.setStyle({\"stick\": {}});\n",
       "\tviewer_16142350835158687.zoomTo();\n",
       "viewer_16142350835158687.render();\n",
       "});\n",
       "</script>"
      ]
     },
     "metadata": {},
     "output_type": "display_data"
    },
    {
     "name": "stdout",
     "output_type": "stream",
     "text": [
      "[5110.955676652406, 3061.404930908405, 2364.47539323793]\n"
     ]
    }
   ],
   "source": [
    "print(\"pubchem version:\")\n",
    "drawMol3D(l_alanine).show()\n",
    "print(getRotConstMHz(l_alanine))\n",
    "print()\n",
    "print(\"optimized version:\")\n",
    "drawMol3D(wfn.molecule()).show()\n",
    "print(getRotConstMHz(wfn.molecule()))"
   ]
  },
  {
   "cell_type": "markdown",
   "metadata": {},
   "source": [
    "As you see in the output above, there is a significant change in the rotational constants, especially along $b$ and $c$, even though visually the change is almost imperceptible.\n",
    "\n",
    "### Step 1.6: Accessing dipole moments:\n",
    "The dipole moments are stored in the wavefunction object `wfn`. We can access them using the `wfn.scalar_variable()` function as shown below:"
   ]
  },
  {
   "cell_type": "code",
   "execution_count": 10,
   "metadata": {},
   "outputs": [
    {
     "name": "stdout",
     "output_type": "stream",
     "text": [
      "Dipole moment along X = -0.84 Debye,\n",
      "                    Y = -2.04 Debye,\n",
      "                    Z = -0.07 Debye.\n"
     ]
    }
   ],
   "source": [
    "dip_X = wfn.scalar_variable(\"SCF DIPOLE X\")\n",
    "dip_Y = wfn.scalar_variable(\"SCF DIPOLE Y\")\n",
    "dip_Z = wfn.scalar_variable(\"SCF DIPOLE Z\")\n",
    "print(f\"Dipole moment along X = {dip_X:5.2f} Debye,\\n\"\n",
    "      f\"                    Y = {dip_Y:5.2f} Debye,\\n\"\n",
    "      f\"                    Z = {dip_Z:5.2f} Debye.\")"
   ]
  },
  {
   "cell_type": "markdown",
   "metadata": {},
   "source": [
    "For a list of all scalar properties that are calculated and stored on the wavefunction object, we can use the `wfn.scalar_variables()` function. Of course, the wavefunction stores much more information about the molecule, including occupied/unoccupied orbitals and their energies."
   ]
  },
  {
   "cell_type": "code",
   "execution_count": 11,
   "metadata": {},
   "outputs": [
    {
     "data": {
      "text/plain": [
       "{'2-BODY DISPERSION CORRECTION ENERGY': -0.00548704,\n",
       " 'CURRENT DIPOLE X': -0.8395587030351533,\n",
       " 'CURRENT DIPOLE Y': -2.0425906675038674,\n",
       " 'CURRENT DIPOLE Z': -0.06753261541918026,\n",
       " 'CURRENT ENERGY': -323.056674343852,\n",
       " 'CURRENT REFERENCE ENERGY': -323.056674343852,\n",
       " 'DFT FUNCTIONAL TOTAL ENERGY': -323.07719293925203,\n",
       " 'DFT TOTAL ENERGY': -323.056674343852,\n",
       " 'DFT VV10 ENERGY': 0.0,\n",
       " 'DFT XC ENERGY': -25.118014025927945,\n",
       " 'DISPERSION CORRECTION ENERGY': -0.00548704,\n",
       " 'GRID ELECTRONS ALPHA': 23.999993705647203,\n",
       " 'GRID ELECTRONS BETA': 23.999993705647203,\n",
       " 'GRID ELECTRONS TOTAL': 47.999987411294406,\n",
       " 'NUCLEAR REPULSION ENERGY': 250.6685594758974,\n",
       " 'ONE-ELECTRON ENERGY': -937.2651455296864,\n",
       " 'PBEH3C DISPERSION CORRECTION ENERGY': -0.00548704,\n",
       " 'PCM POLARIZATION ENERGY': 0.0,\n",
       " 'PE ENERGY': 0.0,\n",
       " 'SCF DIPOLE X': -0.8395587030351533,\n",
       " 'SCF DIPOLE Y': -2.0425906675038674,\n",
       " 'SCF DIPOLE Z': -0.06753261541918026,\n",
       " 'SCF ITERATION ENERGY': -323.056674343852,\n",
       " 'SCF ITERATIONS': 7.0,\n",
       " 'SCF TOTAL ENERGY': -323.056674343852,\n",
       " 'TWO-ELECTRON ENERGY': 388.6374071404649}"
      ]
     },
     "execution_count": 11,
     "metadata": {},
     "output_type": "execute_result"
    }
   ],
   "source": [
    "wfn.scalar_variables()"
   ]
  },
  {
   "cell_type": "code",
   "execution_count": null,
   "metadata": {},
   "outputs": [],
   "source": []
  }
 ],
 "metadata": {
  "kernelspec": {
   "display_name": "CHEM3004_RotSpec",
   "language": "python",
   "name": "chem3004_rotspec"
  },
  "language_info": {
   "codemirror_mode": {
    "name": "ipython",
    "version": 3
   },
   "file_extension": ".py",
   "mimetype": "text/x-python",
   "name": "python",
   "nbconvert_exporter": "python",
   "pygments_lexer": "ipython3",
   "version": "3.9.2"
  }
 },
 "nbformat": 4,
 "nbformat_minor": 4
}

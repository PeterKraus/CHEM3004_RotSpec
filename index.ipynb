{
 "cells": [
  {
   "cell_type": "markdown",
   "metadata": {},
   "source": [
    "# CHEM3004: Rotational Spectroscopy Lab\n",
    "\n",
    "## Author: Peter Kraus\n",
    "\n",
    "### Introduction\n",
    "The goal of this lab is to calculate the rotational constants of various stereoisomers of menthol, select the lowest energy isomer, and then use the predicted rotational constants to fit the experimental microwave spectrum and obtain the experimental rotational constants of menthol.\n",
    "\n",
    "The experimental data used in this lab is taken from [Schmitz et al.](https://doi.org/10.3389/fchem.2015.00015) For calculations, we will use density functional theory, in particular the [PBEh-3c](https://doi.org/10.1063/1.4927476) density functional, as implemented in the quantum chemical software [Psi4](https://doi.org/10.1063/5.0006002).\n",
    "\n",
    "### Layout of the lab\n",
    "\n",
    "The lab is laid out in four components, that you should attempt to do in a sequence. I have split the components into the two weeks of sessions, with the first one focusing on calculations, and the second one focusing on data analysis. However, if you are able to finish everything quickly, good for you. This workbook will remain accessible online until the lab reports are due.\n",
    "\n",
    "#### Week 1:\n",
    "\n",
    "- **[Introduction to calculations with Psi4](01_calculations.ipynb):** Optimizing the structure and calculating the rotational constants, the energy, and the dipole moment of alanine. Every one of you should attempt to complete this workbook on your own, to familiarise yourselves with the Jupyter interface and Psi4 commands, so that you can attempt to do the second component of the course on your own.\n",
    "- **[Rotational constants and dipole moments of menthol](02_menthol.ipynb):** Following up from the previous workbook, you should calculate the energy, the rotational constants, and the dipole moments of a single menthol isomer. Then, we will ask you to share your results with your colleagues, so that each of you has a set of data for at least 4 of menthol's isomers.\n",
    "\n",
    "#### Week 2:\n",
    "\n",
    "- **[Calculating transitions from rotational energy levels](03_transitions.ipynb):** In this workbook, we will introduce some of the equations with which we can calculate the expected positions of some of the transitions between the lower energy levels. We will use the rotational constants data from our calculations to predict where these transitions should lie, and by comparison with the experimental spectrum, select which isomer is the most likely to be observed.\n",
    "\n",
    "- **[Fitting the rotational spectrum of menthol](04_fitting.ipynb):** In the final component of this lab, we will fit the experimental spectrum using the predicted rotational constants and calculated dipole moments as a starting point. With this, we will obtain the experimental rotational constants as well as centrifugal distortion constants.\n",
    "\n",
    "### Report\n",
    "\n",
    "The lab report should include:\n",
    "- a short introduction including the goal of this experiment, \n",
    "- a method section correctly attributing the origin of the experimental data as well as the computational methods and tools used, \n",
    "- a results section including:\n",
    "  - the drawings of at least 4 isomers of menthol indicating their stereochemistry,\n",
    "  - a list of the calculated energies, dipole moments, and rotational constants of the 4 isomers,\n",
    "  - a table including the frequencies and assgnment of the experimental transitions used to perform the fit,\n",
    "  - and a table comparing the calculated and experimental rotational and centrifugal distortion constants,\n",
    "- a discussion section including:\n",
    "  - a justification for the choice of the lowest energy isomer,\n",
    "  - a comment on the differences between the experimental and calculated rotational constants,\n",
    "- a bibliography section."
   ]
  },
  {
   "cell_type": "code",
   "execution_count": null,
   "metadata": {},
   "outputs": [],
   "source": []
  }
 ],
 "metadata": {
  "kernelspec": {
   "display_name": "CHEM3004_RotSpec",
   "language": "python",
   "name": "chem3004_rotspec"
  },
  "language_info": {
   "codemirror_mode": {
    "name": "ipython",
    "version": 3
   },
   "file_extension": ".py",
   "mimetype": "text/x-python",
   "name": "python",
   "nbconvert_exporter": "python",
   "pygments_lexer": "ipython3",
   "version": "3.9.2"
  }
 },
 "nbformat": 4,
 "nbformat_minor": 5
}

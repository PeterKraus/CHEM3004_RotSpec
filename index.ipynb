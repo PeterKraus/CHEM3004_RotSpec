{
 "cells": [
  {
   "cell_type": "markdown",
   "id": "dress-tract",
   "metadata": {},
   "source": [
    "# CHEM3004: Rotational Spectroscopy Lab\n",
    "\n",
    "## Author: Peter Kraus\n",
    "\n",
    "### Introduction\n",
    "The goal of this lab is to calculate the rotational constants of various stereoisomers of menthol, select the lowest energy isomer, and then use the predicted rotational constants to fit the experimental microwave spectrum and obtain the experimental rotational constants of menthol.\n",
    "\n",
    "The experimental data used in this lab is taken from [D. Schmitz et al.](https://doi.org/10.3389/fchem.2015.00015) For calculations, we will use density functional theory, in particular the [PBEh-3c](https://doi.org/10.1063/1.4927476) density functional, as implemented in the quantum chemical software [Psi4](https://doi.org/10.1063/5.0006002).\n",
    "\n",
    "To fit the experimental rotational spectrum and obtain the experimental rotation constants, we will use the cross-platform program [pgopher, written by C.M. Western](http://dx.doi.org/10.1016/j.jqsrt.2016.04.010).\n",
    "\n",
    "### Layout of the lab\n",
    "\n",
    "The lab is laid out in four components, that you should attempt to do in a sequence. I have split the components into the two weeks of sessions, with the first one focusing on calculations, and the second one focusing on data analysis. However, if you are able to finish everything quickly, good for you. This workbook will remain accessible online until the lab reports are due.\n",
    "\n",
    "#### Week 1:\n",
    "\n",
    "- **Section 1: [Introduction to calculations with Psi4](01_alanine.ipynb):** Optimizing the structure and calculating the rotational constants, the energy, and the dipole moment of l-alanine. Every one of you should attempt to complete this workbook on your own, to familiarise yourselves with the Jupyter interface and Psi4 commands, so that you can attempt to do the second component of the course on your own.\n",
    "- **Section 2: [Rotational constants and dipole moments of menthol](02_menthol_calc.ipynb):** Following up from [Section 1](01_alanine.ipynb), you should be able to calculate the energy, the rotational constants, and the dipole moments of menthol and its stereoisomers. Then, we will ask you to share your results with your colleagues, so that each of you has a set of data for all four of menthol's isomers.\n",
    "\n",
    "#### Week 2:\n",
    "\n",
    "- **Section 3: [Calculating transitions from rotational energy levels](03_transitions.ipynb):** In this workbook, we will introduce the selection rules for asymmetric tops and some of the equations with which we can calculate the expected positions of lines corresponding to the low $J$ transitions. We will use the rotational constants and dipole moment data from our calculations in [Section 2](02_menthol_calc.ipynb) to predict where these transitions should lie, and by comparison with the experimental spectrum, select which isomers are the most likely to be observed.\n",
    "- **Section 4: [Fitting the rotational spectrum of menthol](04_fitting.ipynb):** In the final component of this lab, we will fit the experimental spectrum using the predicted rotational constants and calculated dipole moments as a starting point. With this, we will obtain the experimental rotational constants as well as centrifugal distortion constants.\n",
    "\n",
    "### Report\n",
    "\n",
    "The lab report should include:\n",
    "- a short introduction including the goal of this experiment, \n",
    "- a method section: \n",
    "  - correctly attributing the origin of the experimental data,\n",
    "  - appropriately describing and citing the computational methods and tools used,\n",
    "  - reference to the software used to perform the spectral fit,\n",
    "- a results section including:\n",
    "  - diagrams of at least 4 isomers of menthol indicating their stereochemistry,\n",
    "  - a list of the calculated energies, dipole moments, and rotational constants of the 4 isomers,\n",
    "  - and a table comparing the calculated, experimental, and published rotational and centrifugal distortion constants,\n",
    "  - a labelled picture comparing the fitted and raw experimental spectrum,\n",
    "- a discussion section including:\n",
    "  - a justification for the choice of the lowest energy isomer,\n",
    "  - a comment on the differences, if any, between the fitted rotational constants and the published data,\n",
    "  - a discussion of the differences between the experimental and calculated rotational constants,\n",
    "- a bibliography section,\n",
    "- an appendix with the line list (a table including the frequencies and assignment of the experimental transitions used to perform the fit)."
   ]
  },
  {
   "cell_type": "code",
   "execution_count": null,
   "id": "attempted-place",
   "metadata": {},
   "outputs": [],
   "source": []
  }
 ],
 "metadata": {
  "kernelspec": {
   "display_name": "CHEM3004_RotSpec",
   "language": "python",
   "name": "chem3004_rotspec"
  },
  "language_info": {
   "codemirror_mode": {
    "name": "ipython",
    "version": 3
   },
   "file_extension": ".py",
   "mimetype": "text/x-python",
   "name": "python",
   "nbconvert_exporter": "python",
   "pygments_lexer": "ipython3",
   "version": "3.9.1"
  }
 },
 "nbformat": 4,
 "nbformat_minor": 5
}

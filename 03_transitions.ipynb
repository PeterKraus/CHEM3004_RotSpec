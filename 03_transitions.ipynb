{
 "cells": [
  {
   "cell_type": "markdown",
   "metadata": {},
   "source": [
    "## Section 3: Rotational transitions of menthol \"by hand\"\n",
    "\n",
    "As you will have seen after sharing your data from the [menthol calculation](02_menthol_calc.ipynb) workbook, the rotational constants of the four stereoisomers differ quite substantially. This is what makes rotational spectroscopy such a powerful method - small changes in the structure affect the spectra a lot!\n",
    "\n",
    "### Step 3.1: Introduction into asymmetric tops\n",
    "\n",
    "Recall that for linear molecules (eg. N<sub>2</sub> or CO<sub>2</sub>) and spherical tops (eg. CH<sub>4</sub> or SF<sub>6</sub>), the expressions for energy levels are simple: the rotational term $E(J)$ depends only on the rotational quantum number $J$ and the single rotational constant $B$:\n",
    "\n",
    "\\begin{align}\n",
    "E(J) = BJ(J+1)\n",
    "\\end{align}\n",
    "\n",
    "which means that the transitions between adjacent energy levels ($J+1\\leftarrow J$) are:\n",
    "\n",
    "\\begin{align}\n",
    "E(J+1) - E(J) = B(J+1)(J+2) - B(J)(J+1) = 2B(J+1).\n",
    "\\end{align}\n",
    "\n",
    "Unfortunately, the expressions for rotational energy levels are not trivial for symmetric tops and asymmetric tops. \n",
    "\n",
    "The issue in asymmetric tops, such as menthol, is further complicated by the fact that the projections of the angular momenta ($K_a, K_c$ or $K_{-1}, K_{1}$) on the axes ($a, c$) are no longer \"perfect\" as the molecule is asymmetric, and therefore no analytical expression exists. Fortunately, the values have been tabulated - we will use one such table from [Gordy and Cook]() which includes most terms up to $J = 5$, where the terms $E(J_{K_a K_c}) = E(J_{K_{-1} K_1})$ are expressed using the rotational constants $A, B, C$:\n",
    "\n",
    "![from Gordy and Cook](gordy.png)\n",
    "\n",
    "Note that the expressions for the terms of $4_{40}$, $4_{22}$ and $4_{04}$ exist, but they are about half a page long each, so they are not shown. As you can see from the above table, the expressions very quickly become too messy to be useful for evaluations by hand."
   ]
  },
  {
   "cell_type": "markdown",
   "metadata": {},
   "source": [
    "### Step 3.1: Predicting low J transitions\n",
    "\n",
    "Recall your selection rules for microwave transitions:\n",
    "\n",
    "For a transition between $J''_{K_a'' K_c''} \\leftarrow J'_{K_a' K_c'}$:\n",
    "- $\\Delta J = J'' - J'$:\n",
    "  - $= +1$: R-branch transition\n",
    "  - $= 0$: Q-branch transition\n",
    "  - $= -1$: P-branch transition\n",
    "- $a$-type transitions: require $\\mu_a \\ne 0$:\n",
    "  - $\\Delta K_a$ must be even\n",
    "  - $\\Delta K_c$ must be odd\n",
    "- $b$-type transitions: require $\\mu_b \\ne 0$:\n",
    "  - $\\Delta K_a$ must be odd\n",
    "  - $\\Delta K_c$ must be odd\n",
    "- $c$-type transitions: require $\\mu_c \\ne 0$:\n",
    "  - $\\Delta K_a$ must be odd\n",
    "  - $\\Delta K_c$ must be even\n",
    "\n",
    "#### Exercise 3.1.1: Write down the correct terms ($J_{K_a K_c}$) involved in the following transitions:\n",
    "- $J: 1\\leftarrow 0$, $c$-type transition\n",
    "- $J: 2\\leftarrow 1$, $a$-type transition\n",
    "- $J: 2\\leftarrow 3$, $b$-type transition\n",
    "\n",
    "Use the list of selection rules and the above table of explicit energy expressions!\n",
    "\n",
    "For example, $J: 1 \\leftarrow 0$ $b$-type transition would be:"
   ]
  },
  {
   "cell_type": "raw",
   "metadata": {},
   "source": [
    "J\" = 1, Ka\" = 1, Kc\" = 1 <- J' = 0, Ka = 0, Kc = 0"
   ]
  },
  {
   "cell_type": "markdown",
   "metadata": {},
   "source": [
    "Write your answers into the cell below:"
   ]
  },
  {
   "cell_type": "raw",
   "metadata": {},
   "source": [
    "1 <- 0 c-type is:\n",
    "\n",
    "J\" = 1, Ka\" = ?, Kc\" = ? <- J' = 0, Ka' = ?, Kc' = ?\n",
    "\n",
    "2 <- 1 a-type is:\n",
    "\n",
    "J\" = 2, Ka\" = ?, Kc\" = ? <- J' = 1, Ka' = ?, Kc' = ?\n",
    "\n",
    "2 <- 3 b-type is:\n",
    "\n",
    "J\" = 2, Ka\" = ?, Kc\" = ? <- J' = 3, Ka' = ?, Kc' = ?"
   ]
  },
  {
   "cell_type": "markdown",
   "metadata": {},
   "source": [
    "#### Exercise 3.1.2: Which transitions are likely to be the strongest?\n",
    "\n",
    "Look at the dipole moment components $\\mu_a, \\mu_b, \\mu_c$ of your menthol isomers. Which type of transitions would you expect to be the strongest, which one the weakest?"
   ]
  },
  {
   "cell_type": "raw",
   "metadata": {},
   "source": []
  },
  {
   "cell_type": "markdown",
   "metadata": {},
   "source": [
    "#### Exercise 3.1.3: Calculate energies of transitions:\n",
    "\n",
    "You are provided with a function `F(J, Ka, Kc, A, B, C)`. This function computes the energy of a given rotational level $J_{K_a K_c}$ given the rotational constants are $A, B, C$, with $J <= 3$.\n",
    "\n",
    "Using your answers to the above questions, calculate the predicted energies of transitions of menthol and its stereoisomers that you think are strongest ($a$-, $b$-, or $c$-type?). \n",
    "\n",
    "An example calculation to show how to use the provided `F()` function to calculate the energy of several $b$-type transitions of l-alanine is provided:"
   ]
  },
  {
   "cell_type": "code",
   "execution_count": null,
   "metadata": {},
   "outputs": [],
   "source": [
    "from gordycook import F\n",
    "# b-type: ΔKa = ΔKc = 1\n",
    "# for J: 1 <- 0 this requires\n",
    "# J\" = 1, Ka\" = 1, Kc\" = 1\n",
    "# J' = 0, Ka\" = 0, Kc\" = 0\n",
    "# and so on for higher Js\n",
    "A, B, C = 5108.35, 3206.11, 2215.78\n",
    "\n",
    "print(F(1,1,1,A,B,C) - F(0,0,0,A,B,C))\n",
    "print(F(2,2,1,A,B,C) - F(1,1,0,A,B,C))\n",
    "print(F(2,1,2,A,B,C) - F(1,0,1,A,B,C))\n",
    "print(F(3,3,1,A,B,C) - F(2,2,0,A,B,C))\n",
    "print(F(3,2,2,A,B,C) - F(2,1,1,A,B,C))\n",
    "print(F(3,1,3,A,B,C) - F(2,0,2,A,B,C))"
   ]
  },
  {
   "cell_type": "markdown",
   "metadata": {},
   "source": [
    "The predicted $1_{11} \\leftarrow 0_{00}$ transition of l-alanine would therefore be at $\\sim 7324$ MHz, and the higher $b$-type transitions $2_{21} \\leftarrow 1_{10}$, $2_{12} \\leftarrow 1_{01}$, $3_{31} \\leftarrow 2_{20}$, $3_{22} \\leftarrow 2_{11}$, and $3_{13} \\leftarrow 2_{02}$ are at even higher frequencies. "
   ]
  },
  {
   "cell_type": "code",
   "execution_count": null,
   "metadata": {},
   "outputs": [],
   "source": [
    "# First isomer: Plug in your rotational constants\n",
    "A, B, C = \n",
    "\n",
    "# Predict several transitions by calculating the\n",
    "# energy differences: print(F(J\",Ka\",Kc\") - F(J',Ka',Kc')):\n",
    "# You need to modify the line below:\n",
    "print(F( , , , A, B, C) - F( , , , A, B, C))\n"
   ]
  },
  {
   "cell_type": "code",
   "execution_count": null,
   "metadata": {},
   "outputs": [],
   "source": [
    "# Second isomer: Make sure to plug in another set of rotational constants\n",
    "A, B, C = \n",
    "\n",
    "# And repeat the process for several transitions below:\n",
    "print(F( , , , A, B, C) - F( , , , A, B, C))"
   ]
  },
  {
   "cell_type": "code",
   "execution_count": null,
   "metadata": {},
   "outputs": [],
   "source": [
    "# Third isomer:\n",
    "A, B, C = \n",
    "\n"
   ]
  },
  {
   "cell_type": "code",
   "execution_count": null,
   "metadata": {},
   "outputs": [],
   "source": [
    "# Fourth isomer:\n",
    "A, B, C = \n",
    "\n"
   ]
  },
  {
   "cell_type": "markdown",
   "metadata": {},
   "source": [
    "#### Exercise 3.1.4: Compare results to experimental spectrum\n",
    "\n",
    "In the above exercise, you will have calculated several sets of rotational transitions. Now we can compare those with the experimental data shown in the below figure. Some of the calculated transitions should match the shown experimental data to within 30 MHz:\n",
    "\n",
    "![Experimental spectrum](spectrum.svg)\n",
    "\n",
    "The transitions with the highest intensity are highlighted with the frequency shown on the peak-picker. Rotational constants of which isomer predict transitions that are the closest to the experiment? What is the relative energy of the four isomers? Which ones are the most stable? Can you eliminate some of the four isomers from further search?"
   ]
  },
  {
   "cell_type": "code",
   "execution_count": null,
   "metadata": {},
   "outputs": [],
   "source": []
  }
 ],
 "metadata": {
  "kernelspec": {
   "display_name": "CHEM3004_RotSpec",
   "language": "python",
   "name": "chem3004_rotspec"
  },
  "language_info": {
   "codemirror_mode": {
    "name": "ipython",
    "version": 3
   },
   "file_extension": ".py",
   "mimetype": "text/x-python",
   "name": "python",
   "nbconvert_exporter": "python",
   "pygments_lexer": "ipython3",
   "version": "3.9.1"
  }
 },
 "nbformat": 4,
 "nbformat_minor": 4
}

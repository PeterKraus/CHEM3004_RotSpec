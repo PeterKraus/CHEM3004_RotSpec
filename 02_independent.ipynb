{
 "cells": [
  {
   "cell_type": "code",
   "execution_count": null,
   "metadata": {},
   "outputs": [],
   "source": [
    "import psi4\n",
    "import py3Dmol as p3d\n",
    "from qcelemental import constants as qcc\n",
    "\n",
    "def drawPsi4Geom(mol):\n",
    "    xyz = mol.save_string_xyz_file() \n",
    "    view = p3d.view(width=600, height=400)\n",
    "    view.addModel(xyz, \"xyz\")\n",
    "    view.setStyle({'stick':{}})\n",
    "    view.zoomTo()\n",
    "    return(view.show())\n",
    "\n",
    "def getRotConstMHz(mol):\n",
    "    incm = mol.rotational_constants().np\n",
    "    inHz = [i * qcc.c * 100 for i in incm]\n",
    "    inMHz = [i/1e6 for i in inHz]\n",
    "    return(inMHz)"
   ]
  },
  {
   "cell_type": "markdown",
   "metadata": {},
   "source": [
    "## Task 1: Get properties of menthol\n",
    "\n",
    "Using the previous workbook and the partially pre-filled cells below, calculate the following properties\n",
    "of at least 4 stereoisomers of menthol:\n",
    "\n",
    "- rotational constants at the minimum geometry in MHz\n",
    "- dipole moments at the minimum geometry in Debye\n",
    "- energy of the minimum geometry in Hartree\n",
    "\n",
    "There are many stereoisomers of menthol; use wikipedia and pubchem to look for the starting structures.\n",
    "\n",
    "You should only have to change the bits in carets `<>`:"
   ]
  },
  {
   "cell_type": "markdown",
   "metadata": {},
   "source": [
    "### Step 1.1: getting your menthol from pubchem:"
   ]
  },
  {
   "cell_type": "code",
   "execution_count": null,
   "metadata": {},
   "outputs": [],
   "source": [
    "<your_variable_name> = psi4.geometry(\"pubchem:<enter pubchem key here>\")\n",
    "\n",
    "# hint: for benzene you'd use:\n",
    "# my_benzene = psi4.geometry(\"pubchem:benzene\") "
   ]
  },
  {
   "cell_type": "markdown",
   "metadata": {},
   "source": [
    "### Step 1.2: optimize the pubchem menthol with PBEh-3c:\n",
    "As menthol is significantly larger than alanine, **this may take 10-15 minutes, so do not panic.** \n",
    "Once finished, a message \"Optimizer: Optimization complete!\" will appear..."
   ]
  },
  {
   "cell_type": "code",
   "execution_count": null,
   "metadata": {},
   "outputs": [],
   "source": [
    "E, wfn = psi4.optimize(\"pbeh3c\", mol=<your_variable_name>, return_wfn=True)\n",
    "# hint: for benzene you'd use:\n",
    "#E, wfn = psi4.optimize(\"pbeh3c\", mol=my_benzene, return_wfn=True)"
   ]
  },
  {
   "cell_type": "markdown",
   "metadata": {},
   "source": [
    "### Step 1.3: record all properties:\n",
    "\n",
    "- rotational constants - remember the `getRotConstMHz()` function?\n",
    "- dipole moments along X, Y, Z - remember the `wfn.scalar_variable(\"SCF DIPOLE X\")` function?\n",
    "- absolute energy - this one should be the easiest\n",
    "\n",
    "Again, you will have to edit the commands below to print your calculated values!\n",
    "\n",
    "If you want a picture for your lab report, you can use the `drawPsi4Geom()` function!"
   ]
  },
  {
   "cell_type": "code",
   "execution_count": null,
   "metadata": {},
   "outputs": [],
   "source": [
    "print(\"Rotational constants:\")\n",
    "rotConst = getRotConstMHz(<what goes here>)\n",
    "print(f\"A: {rotConst[0]:10.4f} MHz, B: {rotConst[1]:10.4f} MHz, C: {rotConst[2]:10.4f} MHz\")"
   ]
  },
  {
   "cell_type": "code",
   "execution_count": null,
   "metadata": {},
   "outputs": [],
   "source": [
    "print(\"Dipole moments:\")\n",
    "dip_X = wfn.scalar_variable(\"SCF DIPOLE X\")\n",
    "dip_Y = \n",
    "dip_Z =\n",
    "print(f\"Dipole along: X = {dip_X:6.3f} Debye, Y = {dip_Y:6.3f} Debye, Z = {dip_Z}\")\n",
    "# adapt it for Y and Z!"
   ]
  },
  {
   "cell_type": "code",
   "execution_count": null,
   "metadata": {},
   "outputs": [],
   "source": [
    "print(\"Energy of the molecule\")\n",
    "print(f\"E = {E:12.7f} Hartree\")"
   ]
  },
  {
   "cell_type": "code",
   "execution_count": null,
   "metadata": {},
   "outputs": [],
   "source": []
  }
 ],
 "metadata": {
  "kernelspec": {
   "display_name": "CHEM3004_RotSpec",
   "language": "python",
   "name": "chem3004_rotspec"
  },
  "language_info": {
   "codemirror_mode": {
    "name": "ipython",
    "version": 3
   },
   "file_extension": ".py",
   "mimetype": "text/x-python",
   "name": "python",
   "nbconvert_exporter": "python",
   "pygments_lexer": "ipython3",
   "version": "3.9.1"
  }
 },
 "nbformat": 4,
 "nbformat_minor": 4
}

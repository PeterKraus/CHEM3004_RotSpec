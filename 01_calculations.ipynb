{
 "cells": [
  {
   "cell_type": "code",
   "execution_count": 1,
   "metadata": {},
   "outputs": [],
   "source": [
    "import psi4\n",
    "import py3Dmol as p3d\n",
    "from qcelemental import constants as qcc"
   ]
  },
  {
   "cell_type": "markdown",
   "metadata": {},
   "source": [
    "## Example 1: **l-alanine** geometry optimization\n",
    "\n",
    "In the following cells, we will learn how to download a geometry of a molecule (in this case l-alanine)\n",
    "from pubchem, visualise its geometry, check its rotational constants, optimize its structure to a minimum\n",
    "with quantum chemistry, and then save its absolute energy, rotational constants, and dipole moments.\n",
    "\n",
    "For this, we'll use the quantum chemistry package [Psi4](https://doi.org/10.1063/5.0006002) to do the computational heavy lifting."
   ]
  },
  {
   "cell_type": "markdown",
   "metadata": {},
   "source": [
    "### Step 1.1: getting l-alanine from pubchem:\n",
    "\n",
    "This is fairly easy. We tell `Psi4` to search for a geometry of `<molecule>` on pubchem \n",
    "using the `psi4.geometry(\"pubchem:<molecule>\")` syntax. As we want to use the geometry \n",
    "later, we save it into a variable called `l_alanine`:"
   ]
  },
  {
   "cell_type": "code",
   "execution_count": 24,
   "metadata": {},
   "outputs": [
    {
     "name": "stdout",
     "output_type": "stream",
     "text": [
      "\tSearching PubChem database for l-alanine (single best match returned)\n",
      "\tFound 1 result(s)\n"
     ]
    }
   ],
   "source": [
    "l_alanine = psi4.geometry(\"pubchem:l-alanine\")"
   ]
  },
  {
   "cell_type": "markdown",
   "metadata": {},
   "source": [
    "### Step 1.2: getting the properties of the pubchem version of l-alanine:\n",
    "First, we want to visualise the molecule.\n",
    "Here we define a function `drawPsi4Geom()` that takes one argument,\n",
    "a molecule geometry in the Psi4 format, and adapts it for viewing using py3Dmol.\n",
    "We can then re-use this function by calling `drawPsi4Geom(<saved molecule>)`,\n",
    "or in the case of l-alanine, `drawPsi4Geom(l_alanine)`."
   ]
  },
  {
   "cell_type": "code",
   "execution_count": 3,
   "metadata": {},
   "outputs": [
    {
     "data": {
      "application/3dmoljs_load.v0": "<div id=\"3dmolviewer_1613529495662378\"  style=\"position: relative; width: 600px; height: 400px\">\n        <p id=\"3dmolwarning_1613529495662378\" style=\"background-color:#ffcccc;color:black\">You appear to be running in JupyterLab (or JavaScript failed to load for some other reason).  You need to install the 3dmol extension: <br>\n        <tt>jupyter labextension install jupyterlab_3dmol</tt></p>\n        </div>\n<script>\n\nvar loadScriptAsync = function(uri){\n  return new Promise((resolve, reject) => {\n    var tag = document.createElement('script');\n    tag.src = uri;\n    tag.async = true;\n    tag.onload = () => {\n      resolve();\n    };\n  var firstScriptTag = document.getElementsByTagName('script')[0];\n  firstScriptTag.parentNode.insertBefore(tag, firstScriptTag);\n});\n};\n\nif(typeof $3Dmolpromise === 'undefined') {\n$3Dmolpromise = null;\n  $3Dmolpromise = loadScriptAsync('https://3dmol.csb.pitt.edu/build/3Dmol.js');\n}\n\nvar viewer_1613529495662378 = null;\nvar warn = document.getElementById(\"3dmolwarning_1613529495662378\");\nif(warn) {\n    warn.parentNode.removeChild(warn);\n}\n$3Dmolpromise.then(function() {\nviewer_1613529495662378 = $3Dmol.createViewer($(\"#3dmolviewer_1613529495662378\"),{backgroundColor:\"white\"});\n\tviewer_1613529495662378.addModel(\"13\\n\\n O    1.442805411509   -1.035155534067    0.280994052041\\n O    1.234705411509    1.125144465933   -0.391905947959\\n N   -1.424994588491    1.159344465933    0.194894052041\\n C   -0.722994588491   -0.104955534067    0.406494052041\\n C   -1.348994588491   -1.191355534067   -0.457405947959\\n C    0.732505411509    0.098944465933    0.043594052041\\n H   -0.781094588491   -0.365055534067    1.468594052041\\n H   -0.872494588491   -2.160855534067   -0.275005947959\\n H   -2.416794588491   -1.304055534067   -0.239305947959\\n H   -1.239294588491   -0.971055534067   -1.525605947959\\n H   -2.406094588491    1.050644465933    0.450394052041\\n H   -1.421594588491    1.396144465933   -0.797105947959\\n H    2.391705411509   -0.925455534067    0.057494052041\\n\",\"xyz\");\n\tviewer_1613529495662378.setStyle({\"stick\": {}});\n\tviewer_1613529495662378.zoomTo();\nviewer_1613529495662378.render();\n});\n</script>",
      "text/html": [
       "<div id=\"3dmolviewer_1613529495662378\"  style=\"position: relative; width: 600px; height: 400px\">\n",
       "        <p id=\"3dmolwarning_1613529495662378\" style=\"background-color:#ffcccc;color:black\">You appear to be running in JupyterLab (or JavaScript failed to load for some other reason).  You need to install the 3dmol extension: <br>\n",
       "        <tt>jupyter labextension install jupyterlab_3dmol</tt></p>\n",
       "        </div>\n",
       "<script>\n",
       "\n",
       "var loadScriptAsync = function(uri){\n",
       "  return new Promise((resolve, reject) => {\n",
       "    var tag = document.createElement('script');\n",
       "    tag.src = uri;\n",
       "    tag.async = true;\n",
       "    tag.onload = () => {\n",
       "      resolve();\n",
       "    };\n",
       "  var firstScriptTag = document.getElementsByTagName('script')[0];\n",
       "  firstScriptTag.parentNode.insertBefore(tag, firstScriptTag);\n",
       "});\n",
       "};\n",
       "\n",
       "if(typeof $3Dmolpromise === 'undefined') {\n",
       "$3Dmolpromise = null;\n",
       "  $3Dmolpromise = loadScriptAsync('https://3dmol.csb.pitt.edu/build/3Dmol.js');\n",
       "}\n",
       "\n",
       "var viewer_1613529495662378 = null;\n",
       "var warn = document.getElementById(\"3dmolwarning_1613529495662378\");\n",
       "if(warn) {\n",
       "    warn.parentNode.removeChild(warn);\n",
       "}\n",
       "$3Dmolpromise.then(function() {\n",
       "viewer_1613529495662378 = $3Dmol.createViewer($(\"#3dmolviewer_1613529495662378\"),{backgroundColor:\"white\"});\n",
       "\tviewer_1613529495662378.addModel(\"13\\n\\n O    1.442805411509   -1.035155534067    0.280994052041\\n O    1.234705411509    1.125144465933   -0.391905947959\\n N   -1.424994588491    1.159344465933    0.194894052041\\n C   -0.722994588491   -0.104955534067    0.406494052041\\n C   -1.348994588491   -1.191355534067   -0.457405947959\\n C    0.732505411509    0.098944465933    0.043594052041\\n H   -0.781094588491   -0.365055534067    1.468594052041\\n H   -0.872494588491   -2.160855534067   -0.275005947959\\n H   -2.416794588491   -1.304055534067   -0.239305947959\\n H   -1.239294588491   -0.971055534067   -1.525605947959\\n H   -2.406094588491    1.050644465933    0.450394052041\\n H   -1.421594588491    1.396144465933   -0.797105947959\\n H    2.391705411509   -0.925455534067    0.057494052041\\n\",\"xyz\");\n",
       "\tviewer_1613529495662378.setStyle({\"stick\": {}});\n",
       "\tviewer_1613529495662378.zoomTo();\n",
       "viewer_1613529495662378.render();\n",
       "});\n",
       "</script>"
      ]
     },
     "metadata": {},
     "output_type": "display_data"
    }
   ],
   "source": [
    "def drawPsi4Geom(mol):\n",
    "    xyz = mol.save_string_xyz_file() \n",
    "    view = p3d.view(width=600, height=400)\n",
    "    view.addModel(xyz, \"xyz\")\n",
    "    view.setStyle({'stick':{}})\n",
    "    view.zoomTo()\n",
    "    return(view.show())\n",
    "\n",
    "drawPsi4Geom(l_alanine)"
   ]
  },
  {
   "cell_type": "markdown",
   "metadata": {},
   "source": [
    "We can also check the rotational constants of the original molecule from pubchem. The function\n",
    "`<molecule>.rotational_constants().np` returns the rotational constants as a wavenumber ($\\lambda$) in \n",
    "cm<sup>-1</sup>. For the rest of this module, we'd prefer to use rotational constants as frequencies ($f$) \n",
    "in MHz, therefore we need to convert between the two using:\n",
    "\n",
    "\\begin{align}\n",
    "f = c \\lambda\n",
    "\\end{align}"
   ]
  },
  {
   "cell_type": "code",
   "execution_count": 7,
   "metadata": {},
   "outputs": [
    {
     "data": {
      "text/plain": [
       "array([0.17048314, 0.10211747, 0.07887041])"
      ]
     },
     "execution_count": 7,
     "metadata": {},
     "output_type": "execute_result"
    }
   ],
   "source": [
    "l_alanine.rotational_constants().np"
   ]
  },
  {
   "cell_type": "markdown",
   "metadata": {},
   "source": [
    "We can define another helper function to aid us. The module `qcc` contains all important physical constants,\n",
    "and we can access the speed of light ($c$, in m/s) as `qcc.c`. We need to multiply that by 100 (m/s $\\rightarrow$ cm/s), and then convert from Hz ( = s <sup>-1</sup>) to MHz."
   ]
  },
  {
   "cell_type": "code",
   "execution_count": 25,
   "metadata": {},
   "outputs": [
    {
     "name": "stdout",
     "output_type": "stream",
     "text": [
      "[5108.350381344177, 3206.1060370070363, 2215.7842244027775]\n"
     ]
    }
   ],
   "source": [
    "def getRotConstMHz(mol):\n",
    "    incm = mol.rotational_constants().np\n",
    "    inHz = [i * qcc.c * 100 for i in incm]\n",
    "    inMHz = [i/1e6 for i in inHz]\n",
    "    return(inMHz)\n",
    "\n",
    "pubchem_rot_consts = getRotConstMHz(l_alanine)\n",
    "print(pubchem_rot_consts)"
   ]
  },
  {
   "cell_type": "markdown",
   "metadata": {},
   "source": [
    "We unfortunately cannot check the dipole moment of the pubchem version, as for that we need the electron density. We will look at that using the optimized version of the molecule."
   ]
  },
  {
   "cell_type": "markdown",
   "metadata": {},
   "source": [
    "### Step 1.3: Optimizing the geometry with Psi4:\n",
    "When we want to find the minimum energy conformation of any molecule, the process by\n",
    "which we do that is called \"geometry optimization\". We will use the program Psi4 to do that, \n",
    "using a good but computationally cheap method: [PBEh-3c by Grimme et al.](https://doi.org/10.1063/1.4927476)\n",
    "The pubchem geometry is close to this minimum, but each computational method is slightly different, \n",
    "so it makes sense to make sure we are at the true minimum, especially as we want the rotational constants.\n",
    "\n",
    "\n",
    "In the next cell, we will optimize the l-alanine molecule using the PBEh-3c density functional. \n",
    "**This may take a few minutes, so do not panic.** The absolute energy of the optimized molecule\n",
    "will be saved into `E`, and the wavefunction of the optimized molecule into the `wfn` object. The new geometry\n",
    "can be accessed as `wfn.molecule()`.\n",
    "\n",
    "Once finished, a message \"Optimizer: Optimization complete!\" will appear..."
   ]
  },
  {
   "cell_type": "code",
   "execution_count": 6,
   "metadata": {},
   "outputs": [
    {
     "name": "stdout",
     "output_type": "stream",
     "text": [
      "Optimizer: Optimization complete!\n"
     ]
    }
   ],
   "source": [
    "E, wfn = psi4.optimize(\"pbeh3c\", mol=l_alanine, return_wfn=True)"
   ]
  },
  {
   "cell_type": "markdown",
   "metadata": {},
   "source": [
    "Now that the above cell has finished, let us visualise the molecule and check whether the rotational \n",
    "constants have changed. Can you tell a visual difference?"
   ]
  },
  {
   "cell_type": "code",
   "execution_count": 26,
   "metadata": {},
   "outputs": [
    {
     "data": {
      "application/3dmoljs_load.v0": "<div id=\"3dmolviewer_16135304192791915\"  style=\"position: relative; width: 600px; height: 400px\">\n        <p id=\"3dmolwarning_16135304192791915\" style=\"background-color:#ffcccc;color:black\">You appear to be running in JupyterLab (or JavaScript failed to load for some other reason).  You need to install the 3dmol extension: <br>\n        <tt>jupyter labextension install jupyterlab_3dmol</tt></p>\n        </div>\n<script>\n\nvar loadScriptAsync = function(uri){\n  return new Promise((resolve, reject) => {\n    var tag = document.createElement('script');\n    tag.src = uri;\n    tag.async = true;\n    tag.onload = () => {\n      resolve();\n    };\n  var firstScriptTag = document.getElementsByTagName('script')[0];\n  firstScriptTag.parentNode.insertBefore(tag, firstScriptTag);\n});\n};\n\nif(typeof $3Dmolpromise === 'undefined') {\n$3Dmolpromise = null;\n  $3Dmolpromise = loadScriptAsync('https://3dmol.csb.pitt.edu/build/3Dmol.js');\n}\n\nvar viewer_16135304192791915 = null;\nvar warn = document.getElementById(\"3dmolwarning_16135304192791915\");\nif(warn) {\n    warn.parentNode.removeChild(warn);\n}\n$3Dmolpromise.then(function() {\nviewer_16135304192791915 = $3Dmol.createViewer($(\"#3dmolviewer_16135304192791915\"),{backgroundColor:\"white\"});\n\tviewer_16135304192791915.addModel(\"13\\n\\n O    1.507181604482   -0.754335559739    0.682406629406\\n O    1.127840792915    0.904986941385   -0.759241185253\\n N   -1.441482864337    1.148189258597    0.189583237085\\n C   -0.744263747983   -0.103241678238    0.372134428224\\n C   -1.269473110798   -1.276604899177   -0.469384749036\\n C    0.716943865251    0.106050918537    0.035013194697\\n H   -0.811957767732   -0.383328910272    1.427050260668\\n H   -0.727787955949   -2.202188726141   -0.272902921460\\n H   -2.320305165827   -1.455901036159   -0.238367111088\\n H   -1.193785548511   -1.055036392337   -1.535205374688\\n H   -2.437081143521    1.013587796172    0.295856718341\\n H   -1.276003878813    1.517355854012   -0.737272713813\\n H    2.416363660588   -0.611912381118    0.387172198318\\n\",\"xyz\");\n\tviewer_16135304192791915.setStyle({\"stick\": {}});\n\tviewer_16135304192791915.zoomTo();\nviewer_16135304192791915.render();\n});\n</script>",
      "text/html": [
       "<div id=\"3dmolviewer_16135304192791915\"  style=\"position: relative; width: 600px; height: 400px\">\n",
       "        <p id=\"3dmolwarning_16135304192791915\" style=\"background-color:#ffcccc;color:black\">You appear to be running in JupyterLab (or JavaScript failed to load for some other reason).  You need to install the 3dmol extension: <br>\n",
       "        <tt>jupyter labextension install jupyterlab_3dmol</tt></p>\n",
       "        </div>\n",
       "<script>\n",
       "\n",
       "var loadScriptAsync = function(uri){\n",
       "  return new Promise((resolve, reject) => {\n",
       "    var tag = document.createElement('script');\n",
       "    tag.src = uri;\n",
       "    tag.async = true;\n",
       "    tag.onload = () => {\n",
       "      resolve();\n",
       "    };\n",
       "  var firstScriptTag = document.getElementsByTagName('script')[0];\n",
       "  firstScriptTag.parentNode.insertBefore(tag, firstScriptTag);\n",
       "});\n",
       "};\n",
       "\n",
       "if(typeof $3Dmolpromise === 'undefined') {\n",
       "$3Dmolpromise = null;\n",
       "  $3Dmolpromise = loadScriptAsync('https://3dmol.csb.pitt.edu/build/3Dmol.js');\n",
       "}\n",
       "\n",
       "var viewer_16135304192791915 = null;\n",
       "var warn = document.getElementById(\"3dmolwarning_16135304192791915\");\n",
       "if(warn) {\n",
       "    warn.parentNode.removeChild(warn);\n",
       "}\n",
       "$3Dmolpromise.then(function() {\n",
       "viewer_16135304192791915 = $3Dmol.createViewer($(\"#3dmolviewer_16135304192791915\"),{backgroundColor:\"white\"});\n",
       "\tviewer_16135304192791915.addModel(\"13\\n\\n O    1.507181604482   -0.754335559739    0.682406629406\\n O    1.127840792915    0.904986941385   -0.759241185253\\n N   -1.441482864337    1.148189258597    0.189583237085\\n C   -0.744263747983   -0.103241678238    0.372134428224\\n C   -1.269473110798   -1.276604899177   -0.469384749036\\n C    0.716943865251    0.106050918537    0.035013194697\\n H   -0.811957767732   -0.383328910272    1.427050260668\\n H   -0.727787955949   -2.202188726141   -0.272902921460\\n H   -2.320305165827   -1.455901036159   -0.238367111088\\n H   -1.193785548511   -1.055036392337   -1.535205374688\\n H   -2.437081143521    1.013587796172    0.295856718341\\n H   -1.276003878813    1.517355854012   -0.737272713813\\n H    2.416363660588   -0.611912381118    0.387172198318\\n\",\"xyz\");\n",
       "\tviewer_16135304192791915.setStyle({\"stick\": {}});\n",
       "\tviewer_16135304192791915.zoomTo();\n",
       "viewer_16135304192791915.render();\n",
       "});\n",
       "</script>"
      ]
     },
     "metadata": {},
     "output_type": "display_data"
    },
    {
     "name": "stdout",
     "output_type": "stream",
     "text": [
      "pubchem version:\n",
      "[5108.350381344177, 3206.1060370070363, 2215.7842244027775]\n",
      "optimized version:\n",
      "[5110.9559332869385, 3061.4047705713156, 2364.4754628364058]\n"
     ]
    }
   ],
   "source": [
    "drawPsi4Geom(wfn.molecule())\n",
    "print(\"pubchem version:\")\n",
    "print(pubchem_rot_consts)\n",
    "print(\"optimized version:\")\n",
    "print(getRotConstMHz(wfn.molecule()))"
   ]
  },
  {
   "cell_type": "markdown",
   "metadata": {},
   "source": [
    "As you see in the output above, there is a significant change, \n",
    "even though visually the change is almost imperceptible.\n",
    "\n",
    "How about dipole moments? They are stored in the `wfn` object under \n",
    "the following three keys, in Debye:"
   ]
  },
  {
   "cell_type": "code",
   "execution_count": 45,
   "metadata": {},
   "outputs": [
    {
     "name": "stdout",
     "output_type": "stream",
     "text": [
      "-0.8395597594507623 -2.0425904321991455 -0.06753220122530776\n"
     ]
    }
   ],
   "source": [
    "dip_X = wfn.scalar_variable(\"SCF DIPOLE X\")\n",
    "dip_Y = wfn.scalar_variable(\"SCF DIPOLE Y\")\n",
    "dip_Z = wfn.scalar_variable(\"SCF DIPOLE Z\")\n",
    "print(dip_X, dip_Y, dip_Z)"
   ]
  },
  {
   "cell_type": "code",
   "execution_count": null,
   "metadata": {},
   "outputs": [],
   "source": []
  }
 ],
 "metadata": {
  "kernelspec": {
   "display_name": "CHEM3004_RotSpec",
   "language": "python",
   "name": "chem3004_rotspec"
  },
  "language_info": {
   "codemirror_mode": {
    "name": "ipython",
    "version": 3
   },
   "file_extension": ".py",
   "mimetype": "text/x-python",
   "name": "python",
   "nbconvert_exporter": "python",
   "pygments_lexer": "ipython3",
   "version": "3.9.1"
  }
 },
 "nbformat": 4,
 "nbformat_minor": 4
}

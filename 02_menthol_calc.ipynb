{
 "cells": [
  {
   "cell_type": "markdown",
   "metadata": {},
   "source": [
    "## Section 2: Calculate properties of menthol\n",
    "\n",
    "In this workbook, you should use the functions and methods used in the [l-alanine workbook](01_alanine.ipynb) to calculate the properties of a stereoisomer of menthol. You should calculate the following properties for an isomer:\n",
    "\n",
    "- rotational constants at the minimum geometry in MHz\n",
    "- dipole moments at the minimum geometry in Debye\n",
    "- energy of the minimum geometry in Hartree\n",
    "\n",
    "There are many stereoisomers of menthol. Feel free to use the [wikipedia article](https://en.wikipedia.org/wiki/Menthol) and [pubchem search](https://pubchem.ncbi.nlm.nih.gov/#query=menthol) to look for the starting structures. For your lab report, you should compare the properties of four (or more) stereoisomers, to determine which one is the most stable one based on your calculations, and which one was measured in the experiment. To avoid calculating the same structure over and over again, coordinate with your colleagues and share data. At least two of you should calculate the same isomer to make sure you did it right! At the end of the lab, exchange results.\n",
    "\n",
    "It might be helpful to note your results in a table such as this one:\n",
    "\n",
    "| Stereoisomer    | Energy (Hartree) | B<sub>A</sub> (MHz) | B<sub>B</sub> (MHz) | B<sub>C</sub> (MHz) | $\\mu$<sub>A</sub> (Debye) |  $\\mu$<sub>B</sub> (Debye) |  $\\mu$<sub>C</sub> (Debye) |\n",
    "| ------------    | ---------------: | ---: | ---: | ---: | ---: | ---: | ---: |\n",
    "| l-menthol       | -XXX.XXXXXX | XXXX.XXX | XXXX.XXXX | XXXX.XXX | X.XX | X.XX | X.XX |\n",
    "| other menthol   | -XXX.XXXXXX | XXXX.XXX | XXXX.XXXX | XXXX.XXX | X.XX | X.XX | X.XX |\n",
    "| another menthol | -XXX.XXXXXX | XXXX.XXX | XXXX.XXXX | XXXX.XXX | X.XX | X.XX | X.XX |\n",
    "| last menthol    | -XXX.XXXXXX | XXXX.XXX | XXXX.XXXX | XXXX.XXX | X.XX | X.XX | X.XX |\n",
    "\n",
    "Don't forget to save the **stereochemical diagrams of your menthol isomers** - you will need those in the lab report!\n",
    "\n",
    "### Step 2.1: Loading and defining functions:\n",
    "In the cell below, we load all modules and define the functions as we did in the l-alanine workbook. You shouldn't touch this cell."
   ]
  },
  {
   "cell_type": "code",
   "execution_count": null,
   "metadata": {},
   "outputs": [],
   "source": [
    "import psi4                        # for quantum chemistry\n",
    "import py3Dmol as p3d              # for 3D visualisation\n",
    "import qcelemental as qcel         # for physical constants\n",
    "from rdkit import Chem             # for 2D visualisation\n",
    "from openbabel import openbabel    # for format conversions\n",
    "from numpy import linalg           # for linear algebra\n",
    "\n",
    "def drawMol3D(mol, width = 250, height = 200):\n",
    "    xyz = mol.save_string_xyz_file() \n",
    "    view = p3d.view(width = width, height = height)\n",
    "    view.addModel(xyz, \"xyz\")\n",
    "    view.setStyle({'stick':{}})\n",
    "    view.zoomTo()\n",
    "    return view\n",
    "\n",
    "def drawMol2D(mol, width=100, height=100):\n",
    "    xyz = mol.save_string_xyz_file()\n",
    "    obc = openbabel.OBConversion()\n",
    "    obm = openbabel.OBMol()\n",
    "    obc.SetInAndOutFormats(\"xyz\", \"smi\")\n",
    "    obc.ReadString(obm, xyz)\n",
    "    smi = obc.WriteString(obm)\n",
    "    print(\"The generated SMILES are: \" + smi)\n",
    "    m = Chem.MolFromSmiles(smi)\n",
    "    Chem.Kekulize(m)\n",
    "    return m \n",
    "\n",
    "def getRotConstMHz(mol):\n",
    "    incm = mol.rotational_constants().np\n",
    "    inHz = [i * qcel.constants.c * 100 for i in incm]\n",
    "    inMHz = [i/1e6 for i in inHz]\n",
    "    return inMHz\n",
    "\n",
    "def getDipoleABC(wf):\n",
    "    dipole_XYZ = wf.array_variable(\"CURRENT DIPOLE\").np * qcel.constants.dipmom_au2debye\n",
    "    I = wf.molecule().inertia_tensor().np\n",
    "    evals, evecs = linalg.eig(I)\n",
    "    idx = evals.argsort()\n",
    "    evals = evals[idx]\n",
    "    evecs = evecs[:,idx]\n",
    "    dipole_ABC = dipole_XYZ.dot(evecs)\n",
    "    return(dipole_ABC)"
   ]
  },
  {
   "cell_type": "markdown",
   "metadata": {},
   "source": [
    "### Step 2.2: Recall what you did for l-alanine:\n",
    "\n",
    "- `l_alanine = psi4.geometry(\"pubchem:l-alanine\")` to get a pubchem structure and save it to `l_alanine` which is a `<molecule object>`\n",
    "- `drawMol2D(<molecule object>)` to draw a stereochemical 2D diagram of the molecule within `<molecule object>`\n",
    "- `getRotConstMHz(<molecule object>)` to convert the rotational constants in the geometry within `<molecule object>` to the right units\n",
    "- `E, wfn = psi4.optimize(\"hf3c\", molecule=<molecule object>.clone(), return_wfn=True)` to optimize the geometry, starting from the `<molecule object>`, with energy stored in `E` and wavefunction $\\psi$ saved to `wfn` as a `<wavefunction object>`\n",
    "- `wfn.molecule()` to get to the `<molecule object>` within the optimized wavefunction\n",
    "- `getDipoleABC(<wavefunction object>)` to access the dipole moment $\\mu$ in Debye oriented along principal axes"
   ]
  },
  {
   "cell_type": "markdown",
   "metadata": {},
   "source": [
    "### Step 2.3: Good luck!\n",
    "As menthol is significantly larger than alanine its geometry optimization may take **10-15 minutes, so do not panic.** \n",
    "Once finished, a message \"Optimizer: Optimization complete!\" will appear..."
   ]
  },
  {
   "cell_type": "code",
   "execution_count": null,
   "metadata": {},
   "outputs": [],
   "source": [
    "# Write your code here and in the cells below."
   ]
  },
  {
   "cell_type": "code",
   "execution_count": null,
   "metadata": {},
   "outputs": [],
   "source": []
  },
  {
   "cell_type": "code",
   "execution_count": null,
   "metadata": {},
   "outputs": [],
   "source": []
  }
 ],
 "metadata": {
  "kernelspec": {
   "display_name": "CHEM3004_RotSpec",
   "language": "python",
   "name": "chem3004_rotspec"
  },
  "language_info": {
   "codemirror_mode": {
    "name": "ipython",
    "version": 3
   },
   "file_extension": ".py",
   "mimetype": "text/x-python",
   "name": "python",
   "nbconvert_exporter": "python",
   "pygments_lexer": "ipython3",
   "version": "3.9.2"
  }
 },
 "nbformat": 4,
 "nbformat_minor": 4
}
